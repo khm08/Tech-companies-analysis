{
 "cells": [
  {
   "cell_type": "markdown",
   "id": "0e8e95e2",
   "metadata": {},
   "source": [
    "# Top 1000 Technology Companies Data Analysis Project\n",
    "\n",
    "This notebook performs extensive data cleaning, analysis, and visualization on the dataset of the top 1000 technology companies."
   ]
  },
  {
   "cell_type": "markdown",
   "id": "ef38b5b2",
   "metadata": {},
   "source": [
    "\n",
    "# Project Brief\n",
    "\n",
    "This project involves analyzing the dataset of the top 1000 technology companies based on their market capitalization. The goal is to clean the data, perform exploratory analysis, and generate insights that can be used for decision-making in the technology sector.\n",
    "        "
   ]
  },
  {
   "cell_type": "markdown",
   "id": "3927ae0e",
   "metadata": {},
   "source": [
    "## Load and Explore the Dataset"
   ]
  },
  {
   "cell_type": "code",
   "execution_count": null,
   "id": "b908e970",
   "metadata": {},
   "outputs": [],
   "source": [
    "import pandas as pd\n",
    "import matplotlib.pyplot as plt\n",
    "import seaborn as sns\n",
    "import numpy as np\n",
    "\n",
    "file_path = '/mnt/data/Top 1000 technology companies.csv'\n",
    "tech_companies_data = pd.read_csv(file_path)\n",
    "tech_companies_data.head()"
   ]
  },
  {
   "cell_type": "markdown",
   "id": "302fe11c",
   "metadata": {},
   "source": [
    "## Data Cleaning\n",
    "Remove any missing values, clean the 'Market Cap' column, and sort the data."
   ]
  },
  {
   "cell_type": "code",
   "execution_count": null,
   "id": "5d5c7ac4",
   "metadata": {},
   "outputs": [],
   "source": [
    "# Clean the 'Market Cap' column\n",
    "tech_companies_data['Market Cap'] = tech_companies_data['Market Cap'].replace(\n",
    "    {'\\$': '', 'T': 'e12', 'B': 'e9', 'M': 'e6'}, regex=True\n",
    ")\n",
    "tech_companies_data['Market Cap'] = tech_companies_data['Market Cap'].str.replace(' ', '').astype(float)\n",
    "\n",
    "# Sort the data by 'Ranking'\n",
    "sorted_tech_companies_data = tech_companies_data.sort_values(by='Ranking')\n",
    "sorted_tech_companies_data.head()"
   ]
  },
  {
   "cell_type": "markdown",
   "id": "bbfe992d",
   "metadata": {},
   "source": [
    "## Summary of Findings"
   ]
  },
  {
   "cell_type": "markdown",
   "id": "db7dc825",
   "metadata": {},
   "source": [
    "\n",
    "After cleaning the data and performing exploratory analysis, several key insights were uncovered:\n",
    "\n",
    "- **Apple Inc.** is the largest technology company by market capitalization, followed closely by **Microsoft Corporation** and **Nvidia Corporation**.\n",
    "- The majority of the top companies are based in the **United States**, highlighting the dominance of U.S. companies in the global tech market.\n",
    "- The **Semiconductors** industry is particularly well-represented in the top ranks, reflecting the critical role of semiconductor companies in the tech sector.\n",
    "        "
   ]
  },
  {
   "cell_type": "markdown",
   "id": "f72815f9",
   "metadata": {},
   "source": [
    "## Recommendations"
   ]
  },
  {
   "cell_type": "markdown",
   "id": "ec46a8c6",
   "metadata": {},
   "source": [
    "\n",
    "Based on the analysis, the following recommendations are suggested:\n",
    "\n",
    "1. **Investment Opportunities**: Investors may want to consider the semiconductor industry due to its significant representation among the top companies.\n",
    "2. **Geographic Expansion**: Non-U.S. companies could explore opportunities to increase their presence in the U.S. market.\n",
    "3. **Market Research**: Conduct further market research to understand the growth drivers behind the leading companies in the technology sector.\n",
    "        "
   ]
  },
  {
   "cell_type": "markdown",
   "id": "94d4ae49",
   "metadata": {},
   "source": [
    "## Extensive Data Analysis and Visualizations"
   ]
  },
  {
   "cell_type": "code",
   "execution_count": null,
   "id": "549b7650",
   "metadata": {},
   "outputs": [],
   "source": [
    "# Summary Statistics\n",
    "summary_stats = sorted_tech_companies_data.describe()\n",
    "summary_stats"
   ]
  },
  {
   "cell_type": "code",
   "execution_count": null,
   "id": "d4808237",
   "metadata": {},
   "outputs": [],
   "source": [
    "# Distribution of Market Cap\n",
    "plt.figure(figsize=(10, 6))\n",
    "sns.histplot(sorted_tech_companies_data['Market Cap'], bins=30, kde=True)\n",
    "plt.title('Distribution of Market Cap')\n",
    "plt.xlabel('Market Cap (in $)')\n",
    "plt.ylabel('Frequency')\n",
    "plt.grid(True)\n",
    "plt.show()"
   ]
  },
  {
   "cell_type": "code",
   "execution_count": null,
   "id": "e7f29481",
   "metadata": {},
   "outputs": [],
   "source": [
    "# Market Cap by Country\n",
    "plt.figure(figsize=(14, 7))\n",
    "country_market_cap = sorted_tech_companies_data.groupby('Country')['Market Cap'].sum().sort_values(ascending=False).head(20)\n",
    "sns.barplot(x=country_market_cap.values, y=country_market_cap.index, palette='coolwarm')\n",
    "plt.title('Top 20 Countries by Total Market Cap')\n",
    "plt.xlabel('Total Market Cap (in $)')\n",
    "plt.ylabel('Country')\n",
    "plt.grid(True)\n",
    "plt.show()"
   ]
  },
  {
   "cell_type": "code",
   "execution_count": null,
   "id": "a4193b18",
   "metadata": {},
   "outputs": [],
   "source": [
    "# Market Cap by Sector\n",
    "plt.figure(figsize=(14, 7))\n",
    "sector_market_cap = sorted_tech_companies_data.groupby('Sector')['Market Cap'].sum().sort_values(ascending=False)\n",
    "sns.barplot(x=sector_market_cap.values, y=sector_market_cap.index, palette='viridis')\n",
    "plt.title('Market Cap by Sector')\n",
    "plt.xlabel('Total Market Cap (in $)')\n",
    "plt.ylabel('Sector')\n",
    "plt.grid(True)\n",
    "plt.show()"
   ]
  },
  {
   "cell_type": "code",
   "execution_count": null,
   "id": "befb9967",
   "metadata": {},
   "outputs": [],
   "source": [
    "# Top 10 Companies by Market Cap\n",
    "top_10_companies = sorted_tech_companies_data.head(10)\n",
    "plt.figure(figsize=(12, 6))\n",
    "sns.barplot(x='Market Cap', y='Company', data=top_10_companies, palette='magma')\n",
    "plt.title('Top 10 Technology Companies by Market Capitalization')\n",
    "plt.xlabel('Market Cap (in trillions)')\n",
    "plt.ylabel('Company')\n",
    "plt.grid(True)\n",
    "plt.show()"
   ]
  },
  {
   "cell_type": "code",
   "execution_count": null,
   "id": "7a9ef1fc",
   "metadata": {},
   "outputs": [],
   "source": [
    "# Sector distribution\n",
    "plt.figure(figsize=(10, 6))\n",
    "sns.countplot(y='Sector', data=sorted_tech_companies_data, order = sorted_tech_companies_data['Sector'].value_counts().index, palette='cubehelix')\n",
    "plt.title('Distribution of Companies by Sector')\n",
    "plt.xlabel('Number of Companies')\n",
    "plt.ylabel('Sector')\n",
    "plt.grid(True)\n",
    "plt.show()"
   ]
  },
  {
   "cell_type": "code",
   "execution_count": null,
   "id": "d5f30f7b",
   "metadata": {},
   "outputs": [],
   "source": [
    "# Industry distribution\n",
    "plt.figure(figsize=(10, 6))\n",
    "sns.countplot(y='Industry', data=sorted_tech_companies_data, order = sorted_tech_companies_data['Industry'].value_counts().index[:15], palette='crest')\n",
    "plt.title('Top 15 Industries by Number of Companies')\n",
    "plt.xlabel('Number of Companies')\n",
    "plt.ylabel('Industry')\n",
    "plt.grid(True)\n",
    "plt.show()"
   ]
  },
  {
   "cell_type": "code",
   "execution_count": null,
   "id": "e8144c48",
   "metadata": {},
   "outputs": [],
   "source": [
    "# Correlation matrix\n",
    "correlation = sorted_tech_companies_data[['Ranking', 'Market Cap']].corr()\n",
    "plt.figure(figsize=(8, 6))\n",
    "sns.heatmap(correlation, annot=True, cmap='coolwarm', vmin=-1, vmax=1)\n",
    "plt.title('Correlation Matrix')\n",
    "plt.show()"
   ]
  },
  {
   "cell_type": "markdown",
   "id": "4e9de859",
   "metadata": {},
   "source": [
    "## Save Cleaned Data\n",
    "Finally, save the cleaned dataset for further use."
   ]
  },
  {
   "cell_type": "code",
   "execution_count": null,
   "id": "d974e04b",
   "metadata": {},
   "outputs": [],
   "source": [
    "cleaned_excel_path = '/mnt/data/cleaned_tech_companies_data.xlsx'\n",
    "sorted_tech_companies_data.to_excel(cleaned_excel_path, index=False)\n",
    "print(f'Cleaned data saved to: {cleaned_excel_path}')"
   ]
  }
 ],
 "metadata": {},
 "nbformat": 4,
 "nbformat_minor": 5
}
